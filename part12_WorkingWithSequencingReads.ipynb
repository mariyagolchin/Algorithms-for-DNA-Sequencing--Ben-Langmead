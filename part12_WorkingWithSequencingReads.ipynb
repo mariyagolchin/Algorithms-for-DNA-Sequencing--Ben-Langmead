{
  "nbformat": 4,
  "nbformat_minor": 0,
  "metadata": {
    "colab": {
      "name": "part12- WorkingWithSequencingReads.ipynb",
      "provenance": [],
      "authorship_tag": "ABX9TyMPv8EScL6SkbyWpMvyt1Mt",
      "include_colab_link": true
    },
    "kernelspec": {
      "name": "python3",
      "display_name": "Python 3"
    }
  },
  "cells": [
    {
      "cell_type": "markdown",
      "metadata": {
        "id": "view-in-github",
        "colab_type": "text"
      },
      "source": [
        "<a href=\"https://colab.research.google.com/github/mariyagolchin/Algorithms-for-DNA-Sequencing-Ben-Langmead/blob/main/part12_WorkingWithSequencingReads.ipynb\" target=\"_parent\"><img src=\"https://colab.research.google.com/assets/colab-badge.svg\" alt=\"Open In Colab\"/></a>"
      ]
    },
    {
      "cell_type": "markdown",
      "metadata": {
        "id": "eSudWzjK9If5"
      },
      "source": [
        "<!-- Read FASTQ format  -->"
      ]
    },
    {
      "cell_type": "code",
      "metadata": {
        "id": "IBKFegYr5OFl",
        "outputId": "1ee4d342-dae7-449a-e5fe-4c4bec75cb0b",
        "colab": {
          "base_uri": "https://localhost:8080/"
        }
      },
      "source": [
        "!wget http://d28rh4a8wq0iu5.cloudfront.net/ads1/data/SRR835775_1.first1000.fastq\n"
      ],
      "execution_count": 1,
      "outputs": [
        {
          "output_type": "stream",
          "text": [
            "--2020-10-31 19:09:23--  http://d28rh4a8wq0iu5.cloudfront.net/ads1/data/SRR835775_1.first1000.fastq\n",
            "Resolving d28rh4a8wq0iu5.cloudfront.net (d28rh4a8wq0iu5.cloudfront.net)... 54.240.168.223, 54.240.168.78, 54.240.168.125, ...\n",
            "Connecting to d28rh4a8wq0iu5.cloudfront.net (d28rh4a8wq0iu5.cloudfront.net)|54.240.168.223|:80... connected.\n",
            "HTTP request sent, awaiting response... 200 OK\n",
            "Length: 224786 (220K) [application/octet-stream]\n",
            "Saving to: ‘SRR835775_1.first1000.fastq’\n",
            "\n",
            "SRR835775_1.first10 100%[===================>] 219.52K   829KB/s    in 0.3s    \n",
            "\n",
            "2020-10-31 19:09:24 (829 KB/s) - ‘SRR835775_1.first1000.fastq’ saved [224786/224786]\n",
            "\n"
          ],
          "name": "stdout"
        }
      ]
    },
    {
      "cell_type": "code",
      "metadata": {
        "id": "zWR_haMbEgNm",
        "outputId": "3e5ff1a2-7a8f-4324-b47c-937cf358c981",
        "colab": {
          "base_uri": "https://localhost:8080/"
        }
      },
      "source": [
        "#  data file include:\n",
        "# name line: @SRR835775.1 1/1\n",
        "# base sequence: TAACCCTAACCCTAACCCTAACCCTAACCCTAACCCTAACCCTAACCCTAACCCTCACCCTAACCCTAACCCTAACCGTATCCGTCACCCTAACCCTAAC\n",
        "# placeholder line: +\n",
        "# base quality line: ???B1ADDD8??BB+C?B+:AA883CEE8?C3@DDD3)?D2;DC?8?=BAD=@C@(.6.6=A?=?@##################################\n",
        "\n",
        "\n",
        "def readFastq(filename):\n",
        "    sequences = []\n",
        "    qualities = []\n",
        "    with open(filename) as fh:\n",
        "        while True:\n",
        "            fh.readline() # skip name line\n",
        "            seq = fh.readline().rstrip() # read base sequence\n",
        "            fh.readline() # skip placeholder line\n",
        "            qual = fh.readline().rstrip() #base quality line\n",
        "            if len(seq) == 0:\n",
        "                break\n",
        "            sequences.append(seq)\n",
        "            qualities.append(qual)\n",
        "    return sequences, qualities\n",
        "    \n",
        "seqs, quals = readFastq('SRR835775_1.first1000.fastq')\n",
        "print(seqs[:5])\n",
        "print( quals[:5])\n",
        "\n"
      ],
      "execution_count": 7,
      "outputs": [
        {
          "output_type": "stream",
          "text": [
            "['TAACCCTAACCCTAACCCTAACCCTAACCCTAACCCTAACCCTAACCCTAACCCTCACCCTAACCCTAACCCTAACCGTATCCGTCACCCTAACCCTAAC', 'TAACCCTAACCCTAACCCTAACCCTAACCCTAACCCTAACCCTAACCCTAACCCTACCCTAACCCTAACCCTAACCCTAACCCTAACCCTAACCCTAACC', 'TAGGGTTAGGGTTAGGGTTAGGGTTAGGGTTAGGGTTAGGGTTAGGGTTAGGGTTAGGGTTAGGGTTAGGGTTAGGGTTAGGGTTAGGGTTAGGGTTAGG', 'TAGGGTTAGGGTTAGGGTTAGGGTTAGGGTTAGGGTTAGGGTTAGGGTTAGGGTTAGGGTTAGGGTTAAGGGTTGGGGGTTAGGGGTAGGGGTAGGGTTA', 'CTAACCCTAACCCTAACCCTAACCCTACCCTAACCCTAACCCTAACCCTAACCCTAACCCTAACCCTAACCCTAACCCAACCCTAACCCTAACCCTCACC']\n",
            "['???B1ADDD8??BB+C?B+:AA883CEE8?C3@DDD3)?D2;DC?8?=BAD=@C@(.6.6=A?=?@##################################', 'CCCFFFFFGHHGHJJJJJIJGIIJJJJJJJIJIJJJJJFJJFGIIIIH=CBFCF=CCEG)=>EHB2@@DEC>;;?=;(=?BBD?59?BA###########', '@@<DD?DDHHH<CBHII:CFGIGAGHIIG?CCGGE0BDHIIHIGICH8=FHGI=@EHGGGEEHH>);?CC@.;(=;?59,5<A599?CB>ABBCB><88A', '@CCFFDDFHHHDFHIJJCGGIJJHIIHJC?DHHIJ0?DGHI9BBFHICGGIGI=CDEGI=?AAEF7@?################################', '@<@FDFDDBBFHH@EBGGGEH@FFHE;EHIEGGBHG?)9?8BDGGBGGBCDGI=93=C6==C;CCD(?@>@#############################']\n"
          ],
          "name": "stdout"
        }
      ]
    },
    {
      "cell_type": "code",
      "metadata": {
        "id": "fKQSM1wHKMlg",
        "outputId": "e5927b77-ed76-45c3-a524-011b711af7f9",
        "colab": {
          "base_uri": "https://localhost:8080/"
        }
      },
      "source": [
        "def phred33ToQ (qual):\n",
        "  return ord(qual) - 33\n",
        "\n",
        "HASHTAG= phred33ToQ('#')\n",
        "J= phred33ToQ('J')\n",
        "print(HASHTAG)\n",
        "print(J)\n",
        "\n",
        "\n"
      ],
      "execution_count": 18,
      "outputs": [
        {
          "output_type": "stream",
          "text": [
            "2\n",
            "41\n"
          ],
          "name": "stdout"
        }
      ]
    },
    {
      "cell_type": "code",
      "metadata": {
        "id": "nW_t_cjFLxkW",
        "outputId": "162af65c-7fb6-4a40-81dc-99a566932d0c",
        "colab": {
          "base_uri": "https://localhost:8080/"
        }
      },
      "source": [
        "# write a function to creat histogram\n",
        "\n",
        "def creatHist(qualities):\n",
        "  hist =  [0] * 50 \n",
        "  for qual in qualities:\n",
        "    for phred in qual:\n",
        "      q = phred33ToQ(phred)\n",
        "      hist[q] += 1\n",
        "\n",
        "  return hist \n",
        "\n",
        "h = creatHist(quals)\n",
        "print(h)"
      ],
      "execution_count": 15,
      "outputs": [
        {
          "output_type": "stream",
          "text": [
            "[0, 0, 6178, 0, 0, 54, 108, 574, 345, 83, 193, 124, 79, 165, 49, 236, 184, 327, 514, 238, 531, 254, 313, 798, 992, 888, 1396, 1488, 993, 1752, 3387, 4487, 3248, 5476, 8375, 11814, 4243, 7827, 6579, 8179, 9349, 8180, 0, 0, 0, 0, 0, 0, 0, 0]\n"
          ],
          "name": "stdout"
        }
      ]
    },
    {
      "cell_type": "code",
      "metadata": {
        "id": "e0MHFrR_NdQx",
        "outputId": "561ab3ad-bda9-4d81-b341-edb3d2ae28c2",
        "colab": {
          "base_uri": "https://localhost:8080/",
          "height": 282
        }
      },
      "source": [
        "# Plot the histogram\n",
        "%matplotlib inline\n",
        "import matplotlib.pyplot as plt \n",
        "plt.bar(range(len(h)), h)\n"
      ],
      "execution_count": 17,
      "outputs": [
        {
          "output_type": "execute_result",
          "data": {
            "text/plain": [
              "<BarContainer object of 50 artists>"
            ]
          },
          "metadata": {
            "tags": []
          },
          "execution_count": 17
        },
        {
          "output_type": "display_data",
          "data": {
            "image/png": "[encoded data removed]",
            "text/plain": [
              "<Figure size 432x288 with 1 Axes>"
            ]
          },
          "metadata": {
            "tags": [],
            "needs_background": "light"
          }
        }
      ]
    }
  ]
}