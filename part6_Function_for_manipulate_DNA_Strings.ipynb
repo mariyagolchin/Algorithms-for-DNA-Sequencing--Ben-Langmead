{
  "nbformat": 4,
  "nbformat_minor": 0,
  "metadata": {
    "colab": {
      "name": "part6-Function for manipulate DNA Strings.ipynb",
      "provenance": [],
      "authorship_tag": "ABX9TyMoN9FU7BU84MMyVmDSFcUb",
      "include_colab_link": true
    },
    "kernelspec": {
      "name": "python3",
      "display_name": "Python 3"
    }
  },
  "cells": [
    {
      "cell_type": "markdown",
      "metadata": {
        "id": "view-in-github",
        "colab_type": "text"
      },
      "source": [
        "<a href=\"https://colab.research.google.com/github/mariyagolchin/Algorithms-for-DNA-Sequencing-Ben-Langmead/blob/main/part6_Function_for_manipulate_DNA_Strings.ipynb\" target=\"_parent\"><img src=\"https://colab.research.google.com/assets/colab-badge.svg\" alt=\"Open In Colab\"/></a>"
      ]
    },
    {
      "cell_type": "markdown",
      "metadata": {
        "id": "WI26XUJeSXfd"
      },
      "source": [
        "Function for manipulate DNA Strings\n",
        "\n",
        "*   Find longest common prefix\n",
        "*   Find match of two string\n",
        "*   Function to get the reverse complement of a DNA starnd \n",
        "*   Function to get reverse complement\n",
        "\n"
      ]
    },
    {
      "cell_type": "code",
      "metadata": {
        "id": "EX0VaTbtQstU",
        "outputId": "423275c7-fa33-4be8-e522-556bd1316227",
        "colab": {
          "base_uri": "https://localhost:8080/",
          "height": 35
        }
      },
      "source": [
        "# Find longest common prefix\n",
        "def longestcommonPrefix(s1 ,s2):\n",
        "  i=0\n",
        "  while i< len(s1) and i< len(s2) and s1[i] == s2[i]:\n",
        "    i +=1\n",
        "  return s1[:i]\n",
        "\n",
        "# call function\n",
        "longestcommonPrefix('ACCATGT', 'ACCAGAC')\n"
      ],
      "execution_count": 1,
      "outputs": [
        {
          "output_type": "execute_result",
          "data": {
            "application/vnd.google.colaboratory.intrinsic+json": {
              "type": "string"
            },
            "text/plain": [
              "'ACCA'"
            ]
          },
          "metadata": {
            "tags": []
          },
          "execution_count": 1
        }
      ]
    },
    {
      "cell_type": "code",
      "metadata": {
        "id": "kn6kblCrT-zE",
        "outputId": "10a71bc4-f02b-43a3-9895-734aae6b9b45",
        "colab": {
          "base_uri": "https://localhost:8080/"
        }
      },
      "source": [
        "# find match\n",
        "def match(s1,s2):\n",
        "  if not len(s1)== len(s2):\n",
        "    return False\n",
        "  \n",
        "  for i in range(len(s1)):\n",
        "    # print(\"tyu\")\n",
        "    if not s1[i]== s2[i]:\n",
        "      return False\n",
        "\n",
        "  return True\n",
        "\n",
        "match1=match('ATGCT', 'ATGCT')\n",
        "print(match1)\n",
        "match2= match('AGTC','AGAT')\n",
        "print(match2)"
      ],
      "execution_count": 9,
      "outputs": [
        {
          "output_type": "stream",
          "text": [
            "True\n",
            "False\n"
          ],
          "name": "stdout"
        }
      ]
    },
    {
      "cell_type": "code",
      "metadata": {
        "id": "wXbqnAErWkeZ",
        "outputId": "7d6d42b8-67f2-4c6d-b738-ef2e91e70466",
        "colab": {
          "base_uri": "https://localhost:8080/"
        }
      },
      "source": [
        "# match\n",
        "'AGTA'=='AGTA'"
      ],
      "execution_count": 10,
      "outputs": [
        {
          "output_type": "execute_result",
          "data": {
            "text/plain": [
              "True"
            ]
          },
          "metadata": {
            "tags": []
          },
          "execution_count": 10
        }
      ]
    },
    {
      "cell_type": "code",
      "metadata": {
        "id": "kQk2IW_aWzsU",
        "outputId": "43c760b8-9c8d-4784-f362-be09a6bf586a",
        "colab": {
          "base_uri": "https://localhost:8080/"
        }
      },
      "source": [
        "#  Function to get the reverse complement of a DNA starnd iin order==> use dictionary\n",
        "complement = {'A':'T', 'C':'G' , 'G':'C' , 'T':'A'}\n",
        "c1=complement['A']\n",
        "print(c1)\n",
        "c2=complement['G']\n",
        "print(c2)"
      ],
      "execution_count": 15,
      "outputs": [
        {
          "output_type": "stream",
          "text": [
            "T\n",
            "C\n"
          ],
          "name": "stdout"
        }
      ]
    },
    {
      "cell_type": "code",
      "metadata": {
        "id": "X46eiDqPY7zr",
        "outputId": "9f539ea8-6fab-4f1d-828f-0751cc89c88a",
        "colab": {
          "base_uri": "https://localhost:8080/",
          "height": 35
        }
      },
      "source": [
        "# reversecomplement\n",
        "def reversecomplement(s):\n",
        "  complement = {'A':'T', 'C':'G' , 'G':'C' , 'T':'A'}\n",
        "  t=''\n",
        "  for base in s:\n",
        "    t= complement[base]+t\n",
        "  return t\n",
        "\n",
        "reversecomplement('ACCGTCG')\n"
      ],
      "execution_count": 17,
      "outputs": [
        {
          "output_type": "execute_result",
          "data": {
            "application/vnd.google.colaboratory.intrinsic+json": {
              "type": "string"
            },
            "text/plain": [
              "'CGACGGT'"
            ]
          },
          "metadata": {
            "tags": []
          },
          "execution_count": 17
        }
      ]
    }
  ]
}