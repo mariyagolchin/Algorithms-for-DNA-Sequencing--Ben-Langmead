{
  "nbformat": 4,
  "nbformat_minor": 0,
  "metadata": {
    "colab": {
      "name": "part17-NaiveExactMatching-MatchingArtificialReads.ipynb",
      "provenance": [],
      "toc_visible": true,
      "authorship_tag": "ABX9TyM9jVj6X0ei/sy5yvp5++jT",
      "include_colab_link": true
    },
    "kernelspec": {
      "name": "python3",
      "display_name": "Python 3"
    }
  },
  "cells": [
    {
      "cell_type": "markdown",
      "metadata": {
        "id": "view-in-github",
        "colab_type": "text"
      },
      "source": [
        "<a href=\"https://colab.research.google.com/github/mariyagolchin/Algorithms-for-DNA-Sequencing-Ben-Langmead/blob/main/part17_NaiveExactMatching_MatchingArtificialReads.ipynb\" target=\"_parent\"><img src=\"https://colab.research.google.com/assets/colab-badge.svg\" alt=\"Open In Colab\"/></a>"
      ]
    },
    {
      "cell_type": "markdown",
      "metadata": {
        "id": "jzKOEhfP5nID"
      },
      "source": [
        "# 1- Alignment-- in genome: read best maches\n",
        "# 2- Assembly -- we dont have reference genome:\n",
        "\n"
      ]
    },
    {
      "cell_type": "code",
      "metadata": {
        "id": "Vt2Q3qJo5Bot",
        "outputId": "e4537f9d-5c48-4534-a265-4095b159f1a5",
        "colab": {
          "base_uri": "https://localhost:8080/"
        }
      },
      "source": [
        "# find Exact maching\n",
        "#  return the offset of mach\n",
        "\n",
        "t= 'There would have been a time for such a word'\n",
        "find_match= t.find('word')\n",
        "print(find_match)"
      ],
      "execution_count": 4,
      "outputs": [
        {
          "output_type": "stream",
          "text": [
            "40\n"
          ],
          "name": "stdout"
        }
      ]
    },
    {
      "cell_type": "code",
      "metadata": {
        "id": "g3Ff5L5KGrxO",
        "outputId": "4b8ff2d6-5b8c-4720-a56b-fdbe39c58d34",
        "colab": {
          "base_uri": "https://localhost:8080/"
        }
      },
      "source": [
        "# exact maching: nave algorithm\n",
        "\n",
        "!wget http://d28rh4a8wq0iu5.cloudfront.net/ads1/data/phix.fa\n"
      ],
      "execution_count": 5,
      "outputs": [
        {
          "output_type": "stream",
          "text": [
            "--2020-11-01 14:05:25--  http://d28rh4a8wq0iu5.cloudfront.net/ads1/data/phix.fa\n",
            "Resolving d28rh4a8wq0iu5.cloudfront.net (d28rh4a8wq0iu5.cloudfront.net)... 13.224.10.161, 13.224.10.28, 13.224.10.106, ...\n",
            "Connecting to d28rh4a8wq0iu5.cloudfront.net (d28rh4a8wq0iu5.cloudfront.net)|13.224.10.161|:80... connected.\n",
            "HTTP request sent, awaiting response... 200 OK\n",
            "Length: 5528 (5.4K) [application/octet-stream]\n",
            "Saving to: ‘phix.fa’\n",
            "\n",
            "phix.fa             100%[===================>]   5.40K  --.-KB/s    in 0s      \n",
            "\n",
            "2020-11-01 14:05:25 (293 MB/s) - ‘phix.fa’ saved [5528/5528]\n",
            "\n"
          ],
          "name": "stdout"
        }
      ]
    },
    {
      "cell_type": "code",
      "metadata": {
        "id": "M-Jn2jgTIR1Y",
        "outputId": "d460ea99-69ff-4813-aa2b-459745e0d1ff",
        "colab": {
          "base_uri": "https://localhost:8080/"
        }
      },
      "source": [
        "def readGenome(filename):\n",
        "  genome= ''\n",
        "  with open (filename, 'r') as f:\n",
        "    for line in f:\n",
        "      if not line[0] == '>':\n",
        "        genome += line.rstrip()\n",
        "\n",
        "  return genome\n",
        "\n",
        "genome = readGenome('phix.fa')\n",
        "print(len(genome))"
      ],
      "execution_count": 9,
      "outputs": [
        {
          "output_type": "stream",
          "text": [
            "5386\n"
          ],
          "name": "stdout"
        }
      ]
    },
    {
      "cell_type": "code",
      "metadata": {
        "id": "Llh-DC0ELbeD",
        "outputId": "95e63231-8fe8-4d71-a512-cebfb05267ea",
        "colab": {
          "base_uri": "https://localhost:8080/"
        }
      },
      "source": [
        "def naive(p,t):\n",
        "  occurrences=[]\n",
        "  for i in range(len(t) - len(p) + 1 ):\n",
        "   match =True\n",
        "   for j in range(len(p)):\n",
        "     if  t[i+j] != p[j]:\n",
        "        match = False\n",
        "        break\n",
        "     if match:\n",
        "       occurrences.append(i)\n",
        "  return occurrences\n",
        "\n",
        "\n",
        "t='TAGCT'\n",
        "p= 'AG'\n",
        "nave=naive(p,t)\n",
        "print(nave)\n",
        "print(t[9:11])\n"
      ],
      "execution_count": 18,
      "outputs": [
        {
          "output_type": "stream",
          "text": [
            "[1, 1]\n",
            "\n"
          ],
          "name": "stdout"
        }
      ]
    },
    {
      "cell_type": "code",
      "metadata": {
        "id": "8eaGNVo7OsUA",
        "outputId": "1ed4d057-5ff3-4242-df05-83c12ba4cfe1",
        "colab": {
          "base_uri": "https://localhost:8080/"
        }
      },
      "source": [
        "import random\n",
        "def generateReads(genome, numReads, readLen):\n",
        "    ''' Generate reads from random positions in the given genome. '''\n",
        "    reads = []\n",
        "    for _ in range(numReads):\n",
        "        start = random.randint(0, len(genome)-readLen) - 1\n",
        "        reads.append(genome[start : start+readLen])\n",
        "    return reads\n",
        "\n",
        "reads = generateReads(genome,100,100)\n",
        "# Count how many reads match the genome exactly\n",
        "numMatched = 0\n",
        "for r in reads:\n",
        "    matches = naive(r, genome)\n",
        "    if len(matches) > 0:\n",
        "        numMatched += 1\n",
        "print('%d / %d reads matched the genome exactly!' % (numMatched, len(reads)))"
      ],
      "execution_count": 21,
      "outputs": [
        {
          "output_type": "stream",
          "text": [
            "100 / 100 reads matched the genome exactly!\n"
          ],
          "name": "stdout"
        }
      ]
    }
  ]
}