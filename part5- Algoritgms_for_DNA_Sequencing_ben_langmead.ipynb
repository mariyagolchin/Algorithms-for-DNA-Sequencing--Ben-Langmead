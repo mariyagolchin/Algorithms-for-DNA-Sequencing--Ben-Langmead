{
  "nbformat": 4,
  "nbformat_minor": 0,
  "metadata": {
    "colab": {
      "name": "Algoritgms for DNA Sequencing-ben langmead.ipynb",
      "provenance": [],
      "toc_visible": true,
      "history_visible": true,
      "authorship_tag": "ABX9TyMru58WmnYOkldv4v11cNOB",
      "include_colab_link": true
    },
    "kernelspec": {
      "name": "python3",
      "display_name": "Python 3"
    }
  },
  "cells": [
    {
      "cell_type": "markdown",
      "metadata": {
        "id": "view-in-github",
        "colab_type": "text"
      },
      "source": [
        "<a href=\"https://colab.research.google.com/github/mariyagolchin/Algorithms-for-DNA-Sequencing-Ben-Langmead/blob/main/part5-%20Algoritgms_for_DNA_Sequencing_ben_langmead.ipynb\" target=\"_parent\"><img src=\"https://colab.research.google.com/assets/colab-badge.svg\" alt=\"Open In Colab\"/></a>"
      ]
    },
    {
      "cell_type": "code",
      "metadata": {
        "id": "BfJkPpUSq_JP"
      },
      "source": [
        "seq= 'ACGT'"
      ],
      "execution_count": 1,
      "outputs": []
    },
    {
      "cell_type": "code",
      "metadata": {
        "id": "mniYieVYrlMN",
        "outputId": "41c60bdf-1e78-4bfd-ad96-61beb536f057",
        "colab": {
          "base_uri": "https://localhost:8080/"
        }
      },
      "source": [
        "seq=\"ACGT\"\n",
        "print(seq[1])\n",
        "print(len(seq))\n",
        "e=''\n",
        "print(len(e))\n"
      ],
      "execution_count": 4,
      "outputs": [
        {
          "output_type": "stream",
          "text": [
            "C\n",
            "4\n",
            "0\n"
          ],
          "name": "stdout"
        }
      ]
    },
    {
      "cell_type": "code",
      "metadata": {
        "id": "34KPKEb9rYvl",
        "outputId": "8b750d8f-074f-46a8-e8cc-13174a45648a",
        "colab": {
          "base_uri": "https://localhost:8080/"
        }
      },
      "source": [
        "seq1='CCAA'\n",
        "seq2='CGTT'\n",
        "# concat\n",
        "print(seq1+seq2)"
      ],
      "execution_count": 6,
      "outputs": [
        {
          "output_type": "stream",
          "text": [
            "CCAACGTT\n"
          ],
          "name": "stdout"
        }
      ]
    },
    {
      "cell_type": "code",
      "metadata": {
        "id": "Ha5KkJBLsbW6",
        "outputId": "6cd95e1e-2efb-408a-f367-ed3f6d21259f",
        "colab": {
          "base_uri": "https://localhost:8080/"
        }
      },
      "source": [
        "seqs=['A','C','G','T']\n",
        "# concat\n",
        "print(''.join(seqs))\n",
        "print(','.join(seqs))"
      ],
      "execution_count": 9,
      "outputs": [
        {
          "output_type": "stream",
          "text": [
            "ACGT\n",
            "A,C,G,T\n"
          ],
          "name": "stdout"
        }
      ]
    },
    {
      "cell_type": "code",
      "metadata": {
        "id": "okwZTCj5s84b",
        "outputId": "941864ac-d9e0-47d2-cf82-9514d713182e",
        "colab": {
          "base_uri": "https://localhost:8080/"
        }
      },
      "source": [
        "import random\n",
        "random.seed(7)\n",
        "print(random.choice('ACGT'))"
      ],
      "execution_count": 20,
      "outputs": [
        {
          "output_type": "stream",
          "text": [
            "G\n"
          ],
          "name": "stdout"
        }
      ]
    },
    {
      "cell_type": "code",
      "metadata": {
        "id": "QhPMWX0vu-TU",
        "outputId": "696fbe14-21a8-422f-ec8c-5395f185d47a",
        "colab": {
          "base_uri": "https://localhost:8080/"
        }
      },
      "source": [
        "seq= ''\n",
        "for _ in range (10):\n",
        "  print(seq)\n",
        "  seq+= random.choice('ACGT')\n",
        "print(seq)"
      ],
      "execution_count": 36,
      "outputs": [
        {
          "output_type": "stream",
          "text": [
            "\n",
            "C\n",
            "CG\n",
            "CGG\n",
            "CGGG\n",
            "CGGGT\n",
            "CGGGTA\n",
            "CGGGTAA\n",
            "CGGGTAAT\n",
            "CGGGTAATT\n",
            "CGGGTAATTT\n"
          ],
          "name": "stdout"
        }
      ]
    },
    {
      "cell_type": "code",
      "metadata": {
        "id": "wPQQiSOjvou0",
        "outputId": "22e35379-418f-4711-a5c1-ae0d97fa9c48",
        "colab": {
          "base_uri": "https://localhost:8080/"
        }
      },
      "source": [
        "# random string in list\n",
        "seq= ''.join([random.choice('ACGT') for _ in range(10)])\n",
        "print(seq)\n",
        "print(type(seq))\n",
        "# print 1,2 not contain3\n",
        "print(seq[1:3])\n",
        "print(seq[-2:])\n",
        "print(seq[-1])\n",
        "print(seq[:3]) #0,1,2\n",
        "print(seq[0])\n",
        "# same:\n",
        "print(seq[7:])\n",
        "print(seq[7:len(seq)])\n",
        "# suffix:\n",
        "print(seq[-3])"
      ],
      "execution_count": 52,
      "outputs": [
        {
          "output_type": "stream",
          "text": [
            "ATTCCCTTGT\n",
            "<class 'str'>\n",
            "TT\n",
            "GT\n",
            "T\n",
            "ATT\n",
            "A\n",
            "TGT\n",
            "TGT\n",
            "T\n"
          ],
          "name": "stdout"
        }
      ]
    }
  ]
}