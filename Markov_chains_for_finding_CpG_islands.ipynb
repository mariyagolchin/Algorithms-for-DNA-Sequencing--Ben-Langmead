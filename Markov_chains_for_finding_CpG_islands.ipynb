{
  "nbformat": 4,
  "nbformat_minor": 0,
  "metadata": {
    "colab": {
      "name": "Markov chains for finding CpG islands.ipynb",
      "provenance": [],
      "authorship_tag": "ABX9TyMI26s7H5eGXVY3JeL9xaIy",
      "include_colab_link": true
    },
    "kernelspec": {
      "name": "python3",
      "display_name": "Python 3"
    }
  },
  "cells": [
    {
      "cell_type": "markdown",
      "metadata": {
        "id": "view-in-github",
        "colab_type": "text"
      },
      "source": [
        "<a href=\"https://colab.research.google.com/github/mariyagolchin/Algorithms-for-DNA-Sequencing-Ben-Langmead/blob/main/Markov_chains_for_finding_CpG_islands.ipynb\" target=\"_parent\"><img src=\"https://colab.research.google.com/assets/colab-badge.svg\" alt=\"Open In Colab\"/></a>"
      ]
    },
    {
      "cell_type": "code",
      "metadata": {
        "id": "puZAPkuab41O"
      },
      "source": [
        "from __future__ import print_function\n",
        "import random\n",
        "import re\n",
        "import gzip\n",
        "from itertools import islice\n",
        "from operator import itemgetter\n",
        "import numpy as np\n",
        "\n",
        "from future.standard_library import install_aliases\n",
        "install_aliases()\n",
        "from urllib.request import urlopen, urlcleanup, urlretrieve"
      ],
      "execution_count": 17,
      "outputs": []
    },
    {
      "cell_type": "code",
      "metadata": {
        "id": "BN1ODZiWb_cS"
      },
      "source": [
        "islands_url = 'http://www.haowulab.org/software/makeCGI/model-based-cpg-islands-hg19.txt'\n",
        "\n",
        "# URL for chromosome of the hg19 human genome assembly\n",
        "def hg19_chr_url(chrom):\n",
        "    return 'ftp://hgdownload.cse.ucsc.edu/goldenPath/hg19/chromosomes/%s.fa.gz' % chrom"
      ],
      "execution_count": 18,
      "outputs": []
    },
    {
      "cell_type": "code",
      "metadata": {
        "id": "QLmTjAQkcEZU"
      },
      "source": [
        "def sample(iterable, n):\n",
        "    \"\"\" Samples n items from a stream \"\"\"\n",
        "    samp = []\n",
        "    for t, item in enumerate(iterable):\n",
        "        if t < n:\n",
        "            samp.append(item)\n",
        "        else:\n",
        "            m = random.randint(0, t)\n",
        "            if m < n:\n",
        "                samp[m] = item\n",
        "    return samp"
      ],
      "execution_count": 19,
      "outputs": []
    },
    {
      "cell_type": "code",
      "metadata": {
        "id": "lDTFq2xucG2h"
      },
      "source": [
        "def kmers_from_fasta(fh, k):\n",
        "    \"\"\" Yield k-mer, offset pairs from FASTA filehandle.\n",
        "        Ignore k-mers with chars besides A, C, G or T. \"\"\"\n",
        "    non_acgt = re.compile('[^ACGTacgt]')  # regex for detecting non-A/C/G/Ts\n",
        "    kmer, off = [], 0\n",
        "    for ln in fh:\n",
        "        if ln[0] == r'>':\n",
        "            kmer, off = [], 0  # new sequence\n",
        "            continue\n",
        "        for c in filter(lambda x: x.isalpha(), ln.decode()):\n",
        "            if len(kmer) == k:\n",
        "                kmer.pop(0)  # k-mer buffer full, so bump one element\n",
        "            kmer.append(c.upper())\n",
        "            off += 1\n",
        "            if len(kmer) == k:\n",
        "                kmerstr = ''.join(kmer)\n",
        "                if not non_acgt.search(kmerstr):\n",
        "                    yield kmerstr, off - k"
      ],
      "execution_count": 20,
      "outputs": []
    },
    {
      "cell_type": "code",
      "metadata": {
        "id": "CVOtVjWzcJBB"
      },
      "source": [
        "def kmers_islands_from_fasta(fh, k, isles, want_inside):\n",
        "    \"\"\" Yield k-mers along with string indicating whether k-mer lies\n",
        "        entirely within an island (True) or not (False) \"\"\"\n",
        "    cur = 0\n",
        "    for kmer, off in kmers_from_fasta(fh, k):\n",
        "        while cur < len(isles) and off >= isles[cur][1]:\n",
        "            cur += 1\n",
        "        was_inside = False\n",
        "        if cur < len(isles) and off >= isles[cur][0]:\n",
        "            if off + k <= isles[cur][1]:\n",
        "                was_inside = True\n",
        "                if want_inside:\n",
        "                    yield kmer\n",
        "        if not was_inside and not want_inside:\n",
        "            yield kmer  "
      ],
      "execution_count": 21,
      "outputs": []
    },
    {
      "cell_type": "code",
      "metadata": {
        "id": "VKgjn-4IcW5q"
      },
      "source": [
        "def parse_islands(fh, chromosome):\n",
        "    \"\"\" Parse a file with island annotations. Only take\n",
        "        records from given chromosome name. \"\"\"\n",
        "    islands = []\n",
        "    for ln in fh:\n",
        "        ch, st, en, _ = ln.split(b'\\t', 3)\n",
        "        if ch == chromosome.encode('utf8'):\n",
        "            # convert 1-based closed interval to 0-based right-open\n",
        "            islands.append((int(st)-1, int(en)))\n",
        "    return islands"
      ],
      "execution_count": 22,
      "outputs": []
    },
    {
      "cell_type": "code",
      "metadata": {
        "id": "HLlAvQ0ncZQK"
      },
      "source": [
        "def get_islands(chromosome):\n",
        "    with urlopen(islands_url) as fh:\n",
        "        return parse_islands(fh, chromosome)  # takes a few seconds"
      ],
      "execution_count": 23,
      "outputs": []
    },
    {
      "cell_type": "code",
      "metadata": {
        "colab": {
          "base_uri": "https://localhost:8080/"
        },
        "id": "sbg0IQZFcbdS",
        "outputId": "ad598457-38f7-410c-d646-ce958f1c1671"
      },
      "source": [
        "get_islands('chr22')[1:10]"
      ],
      "execution_count": 24,
      "outputs": [
        {
          "output_type": "execute_result",
          "data": {
            "text/plain": [
              "[(16096917, 16097083),\n",
              " (16097226, 16097940),\n",
              " (16122658, 16123497),\n",
              " (16155779, 16157985),\n",
              " (16192710, 16193099),\n",
              " (16200190, 16202154),\n",
              " (16216495, 16218123),\n",
              " (16227376, 16227533),\n",
              " (16228205, 16228802)]"
            ]
          },
          "metadata": {
            "tags": []
          },
          "execution_count": 24
        }
      ]
    },
    {
      "cell_type": "code",
      "metadata": {
        "id": "DEhlF_Q-cfNC"
      },
      "source": [
        "def kmers_islands_from_hg19(k, chromosome, islands, inside):\n",
        "    fa_fn, _ = urlretrieve(hg19_chr_url(chromosome))\n",
        "    with gzip.open(fa_fn, 'rb') as fa_fh:\n",
        "        # Yield all the k-mer tuples\n",
        "        for r in kmers_islands_from_fasta(fa_fh, k, islands, inside):\n",
        "            yield r"
      ],
      "execution_count": 25,
      "outputs": []
    },
    {
      "cell_type": "code",
      "metadata": {
        "id": "XAjj3vlIchnz"
      },
      "source": [
        "def samples_from_hg19(k, chromosome, n, upto):\n",
        "    \"\"\" Given given k, and n, sample n k-mers from both inside\n",
        "        and outside CpG islands, then return histograms of number\n",
        "        of times each k-mer occurs inside and outside. \"\"\"\n",
        "    islands = get_islands(chromosome)\n",
        "    ins = sample(islice(kmers_islands_from_hg19(\n",
        "        k, chromosome, islands, True), upto), n)\n",
        "    out = sample(islice(kmers_islands_from_hg19(\n",
        "        k, chromosome, islands, False), upto), n)\n",
        "    return ins, out"
      ],
      "execution_count": 26,
      "outputs": []
    },
    {
      "cell_type": "code",
      "metadata": {
        "colab": {
          "base_uri": "https://localhost:8080/"
        },
        "id": "8t9arvbwcj7y",
        "outputId": "ff087ba6-309c-42ed-b330-60c9c044a166"
      },
      "source": [
        "from collections import Counter\n",
        "\n",
        "random.seed(723444)\n",
        "q = 'CGCGC'\n",
        "n = 500000\n",
        "upto = 5000000\n",
        "ins, out = samples_from_hg19(len(q), 'chr22', n, upto)\n",
        "assert len(ins) == n, (len(ins), len(out), n)\n",
        "assert len(out) == n, (len(ins), len(out), n)\n",
        "hist_in, hist_out = Counter(ins), Counter(out)\n",
        "\n",
        "# print info about inside/outside counts and probabilities\n",
        "print(\"inside: %d out of %d\" % (hist_in[q], n))\n",
        "print(\"outside: %d out of %d\" % (hist_out[q], n))\n",
        "print(\"p(inside): %0.5f\" % (float(hist_in[q]) / (hist_in[q] + hist_out[q])))\n",
        "print(\"p(outside): %0.5f\" % (float(hist_out[q]) / (hist_in[q] + hist_out[q])))"
      ],
      "execution_count": 16,
      "outputs": [
        {
          "output_type": "stream",
          "text": [
            "inside: 1553 out of 500000\n",
            "outside: 45 out of 500000\n",
            "p(inside): 0.97184\n",
            "p(outside): 0.02816\n"
          ],
          "name": "stdout"
        }
      ]
    },
    {
      "cell_type": "code",
      "metadata": {
        "id": "4nnOjxgSde02"
      },
      "source": [
        "# Now to build inside and outside Markov chains\n",
        "\n",
        "# compile dinucleotide tables\n",
        "samp_in, samp_out = samples_from_hg19(2, 'chr22', n=100000, upto=1000000)"
      ],
      "execution_count": 33,
      "outputs": []
    },
    {
      "cell_type": "code",
      "metadata": {
        "id": "IO7iDDdOdiaK"
      },
      "source": [
        "def markov_chain_from_dinucs(dinucs):\n",
        "    ''' Given dinucleotide frequencies, make a transition table. '''\n",
        "    conds = np.zeros((4, 4), dtype=np.float64)\n",
        "    margs = np.zeros(4, dtype=np.float64)\n",
        "    for i, ci in enumerate('ACGT'):\n",
        "        tot = 0\n",
        "        for j, cj in enumerate('ACGT'):\n",
        "            count = dinucs.get(ci + cj, 0)\n",
        "            tot += count\n",
        "            margs[i] += count\n",
        "        if tot > 0:\n",
        "            for j, cj in enumerate('ACGT'):\n",
        "                conds[i, j] = dinucs.get(ci + cj, 0) / float(tot)\n",
        "    return conds, margs"
      ],
      "execution_count": 34,
      "outputs": []
    },
    {
      "cell_type": "code",
      "metadata": {
        "id": "8FPzEAefdkTR"
      },
      "source": [
        "ins_conds, ins_margs = markov_chain_from_dinucs(Counter(samp_in))\n",
        "out_conds, out_margs = markov_chain_from_dinucs(Counter(samp_out))"
      ],
      "execution_count": 35,
      "outputs": []
    },
    {
      "cell_type": "code",
      "metadata": {
        "colab": {
          "base_uri": "https://localhost:8080/"
        },
        "id": "OLkni8fydmNF",
        "outputId": "6aa70c76-5d92-4642-e9cb-ffa9cfd569c6"
      },
      "source": [
        "# transition probabilities inside CpG island\n",
        "ins_conds"
      ],
      "execution_count": 30,
      "outputs": [
        {
          "output_type": "execute_result",
          "data": {
            "text/plain": [
              "array([[0.18427153, 0.27129525, 0.4055757 , 0.13885752],\n",
              "       [0.19081672, 0.36113346, 0.24897947, 0.19907035],\n",
              "       [0.17440554, 0.32764433, 0.35676759, 0.14118254],\n",
              "       [0.09348595, 0.3474561 , 0.36885   , 0.19020795]])"
            ]
          },
          "metadata": {
            "tags": []
          },
          "execution_count": 30
        }
      ]
    },
    {
      "cell_type": "code",
      "metadata": {
        "colab": {
          "base_uri": "https://localhost:8080/"
        },
        "id": "bKL7Z8E4dofM",
        "outputId": "f5bd2008-6cff-415b-9b8a-846a03996b93"
      },
      "source": [
        "# confirm that rows add to 1\n",
        "np.sum(ins_conds, 1), np.sum(out_conds, 1)"
      ],
      "execution_count": 31,
      "outputs": [
        {
          "output_type": "execute_result",
          "data": {
            "text/plain": [
              "(array([1., 1., 1., 1.]), array([1., 1., 1., 1.]))"
            ]
          },
          "metadata": {
            "tags": []
          },
          "execution_count": 31
        }
      ]
    },
    {
      "cell_type": "code",
      "metadata": {
        "colab": {
          "base_uri": "https://localhost:8080/"
        },
        "id": "6GRfesW3eINc",
        "outputId": "9b9677a8-64f6-4455-8967-9a1151530dee"
      },
      "source": [
        "# elementwise log2 of above table\n",
        "np.log2(ins_conds)"
      ],
      "execution_count": 36,
      "outputs": [
        {
          "output_type": "execute_result",
          "data": {
            "text/plain": [
              "array([[-2.4112173 , -1.8493678 , -1.32845148, -2.87521152],\n",
              "       [-2.39711099, -1.4680499 , -2.01600464, -2.31155542],\n",
              "       [-2.53700051, -1.58513794, -1.507648  , -2.80871511],\n",
              "       [-3.41181976, -1.56959947, -1.38813863, -2.41826243]])"
            ]
          },
          "metadata": {
            "tags": []
          },
          "execution_count": 36
        }
      ]
    },
    {
      "cell_type": "code",
      "metadata": {
        "colab": {
          "base_uri": "https://localhost:8080/"
        },
        "id": "-Wu3e3K_eLpM",
        "outputId": "3444b9b1-f09b-458d-c559-bac4c0fc93d9"
      },
      "source": [
        "# log ratio table\n",
        "np.log2(ins_conds) - np.log2(out_conds)"
      ],
      "execution_count": 37,
      "outputs": [
        {
          "output_type": "execute_result",
          "data": {
            "text/plain": [
              "array([[-0.86840519,  0.64583514,  0.801165  , -0.88039663],\n",
              "       [-1.01637474,  0.54239442,  2.52071387, -0.68872135],\n",
              "       [-0.82636375,  0.71940465,  0.52526882, -0.79532005],\n",
              "       [-1.22108587,  0.72916353,  0.55802138, -0.7663439 ]])"
            ]
          },
          "metadata": {
            "tags": []
          },
          "execution_count": 37
        }
      ]
    },
    {
      "cell_type": "code",
      "metadata": {
        "id": "g2zcR62JeNeD"
      },
      "source": [
        "def classify(seq, lrTab):\n",
        "    \"\"\" Classify seq using given log-ratio table.  We're ignoring the\n",
        "        initial probability for simplicity. \"\"\"\n",
        "    bits = 0\n",
        "    nucmap = { 'A':0, 'C':1, 'G':2, 'T':3 }\n",
        "    for dinuc in [ seq[i:i+2] for i in range(len(seq)-1) ]:\n",
        "        i, j = nucmap[dinuc[0]], nucmap[dinuc[1]]\n",
        "        bits += lrTab[i, j]\n",
        "    return bits"
      ],
      "execution_count": 38,
      "outputs": []
    },
    {
      "cell_type": "code",
      "metadata": {
        "id": "IwICvpldeQTr"
      },
      "source": [
        "log_ratios = np.log2(ins_conds) - np.log2(out_conds)"
      ],
      "execution_count": 39,
      "outputs": []
    },
    {
      "cell_type": "code",
      "metadata": {
        "colab": {
          "base_uri": "https://localhost:8080/"
        },
        "id": "eIoJx8wneS08",
        "outputId": "6b0b00d0-fee0-4ea1-f3f0-ef3f786f6b27"
      },
      "source": [
        "classify('CGCGCGCGCGCGCGCGCGCGCGCGCG', log_ratios)"
      ],
      "execution_count": 40,
      "outputs": [
        {
          "output_type": "execute_result",
          "data": {
            "text/plain": [
              "41.40213611305077"
            ]
          },
          "metadata": {
            "tags": []
          },
          "execution_count": 40
        }
      ]
    },
    {
      "cell_type": "code",
      "metadata": {
        "colab": {
          "base_uri": "https://localhost:8080/"
        },
        "id": "4qEYh9RgeVUz",
        "outputId": "7bd78213-f429-48f6-aa58-78d7c30b43fc"
      },
      "source": [
        "classify('ATTCTACTATCATCTATCTATCTTCT', log_ratios)"
      ],
      "execution_count": 41,
      "outputs": [
        {
          "output_type": "execute_result",
          "data": {
            "text/plain": [
              "-10.94690093126447"
            ]
          },
          "metadata": {
            "tags": []
          },
          "execution_count": 41
        }
      ]
    },
    {
      "cell_type": "code",
      "metadata": {
        "id": "NjfR2sNmeXVi"
      },
      "source": [
        "itest, otest = samples_from_hg19(100, 'chr18', 1000, 100000)"
      ],
      "execution_count": 42,
      "outputs": []
    },
    {
      "cell_type": "code",
      "metadata": {
        "id": "id-fVJHUeZZi"
      },
      "source": [
        "itestClass = [ classify(x, log_ratios) for x in itest ]\n",
        "otestClass = [ classify(x, log_ratios) for x in otest ]"
      ],
      "execution_count": 43,
      "outputs": []
    },
    {
      "cell_type": "code",
      "metadata": {
        "colab": {
          "base_uri": "https://localhost:8080/",
          "height": 282
        },
        "id": "JSV8d4hzebN1",
        "outputId": "aa3e6fba-88bf-4a43-c224-87e66ab0a21f"
      },
      "source": [
        "%pylab inline --no-import-all\n",
        "from matplotlib import pyplot\n",
        "bins = numpy.linspace(-60, 60, 100)\n",
        "pyplot.hist(itestClass, bins, alpha=0.5)\n",
        "pyplot.hist(otestClass, bins, alpha=0.5)\n",
        "pyplot.show()"
      ],
      "execution_count": 44,
      "outputs": [
        {
          "output_type": "stream",
          "text": [
            "Populating the interactive namespace from numpy and matplotlib\n"
          ],
          "name": "stdout"
        },
        {
          "output_type": "display_data",
          "data": {
            "image/png": "[encoded data removed]",
            "text/plain": [
              "<Figure size 432x288 with 1 Axes>"
            ]
          },
          "metadata": {
            "tags": [],
            "needs_background": "light"
          }
        }
      ]
    }
  ]
}