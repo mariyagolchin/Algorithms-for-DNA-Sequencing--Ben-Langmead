{
  "nbformat": 4,
  "nbformat_minor": 0,
  "metadata": {
    "colab": {
      "name": "Boyer-Moore basics.ipynb",
      "provenance": [],
      "authorship_tag": "ABX9TyNkTEbHvdEE4rTTHLTgIOWg",
      "include_colab_link": true
    },
    "kernelspec": {
      "name": "python3",
      "display_name": "Python 3"
    }
  },
  "cells": [
    {
      "cell_type": "markdown",
      "metadata": {
        "id": "view-in-github",
        "colab_type": "text"
      },
      "source": [
        "<a href=\"https://colab.research.google.com/github/mariyagolchin/Algorithms-for-DNA-Sequencing-Ben-Langmead/blob/main/Boyer_Moore_basics.ipynb\" target=\"_parent\"><img src=\"https://colab.research.google.com/assets/colab-badge.svg\" alt=\"Open In Colab\"/></a>"
      ]
    },
    {
      "cell_type": "markdown",
      "metadata": {
        "id": "Wo9FIq-z28DV"
      },
      "source": [
        "Boy or more algorithm\n",
        "- is similar to naive exact matching\n",
        "- try alignment/ character commparison/ its clever: it skips many alignment that it dosnt need to examine.\n",
        "- popular algorithm\n",
        "- benchmark exact maching algorithm\n",
        "its implemented in many diffrent systems: seach in web document/file/hard drive... this search was implementing by boy or mor \n"
      ]
    },
    {
      "cell_type": "markdown",
      "metadata": {
        "id": "hTqduCGk56Cc"
      },
      "source": [
        "Boyer-Moore \n",
        "- try alignment in left to right order\n",
        "- character comparison in right to left order\n",
        "\n",
        "p: word\n",
        "T: there would have been a time\n",
        "\n",
        "**character comparison in right to left order:**\n",
        "\n",
        " word | would\n",
        "\n",
        " comparing d/d\n",
        " \n",
        " comparing l/r"
      ]
    },
    {
      "cell_type": "markdown",
      "metadata": {
        "id": "kweOGRBv74sl"
      },
      "source": [
        "Boyer-Moore : bad character rule => try to mismatch in to a match\n",
        "\n",
        "Boyer-Moore : good suffix rule => keep the matches matches and not have turn them in mismatches."
      ]
    }
  ]
}